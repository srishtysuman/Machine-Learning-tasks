{
  "nbformat": 4,
  "nbformat_minor": 0,
  "metadata": {
    "colab": {
      "name": "q5.ipynb",
      "provenance": [],
      "collapsed_sections": []
    },
    "kernelspec": {
      "name": "python3",
      "display_name": "Python 3"
    }
  },
  "cells": [
    {
      "cell_type": "code",
      "metadata": {
        "id": "lO_2ri_FNn3n",
        "colab_type": "code",
        "outputId": "8894e72b-2a5c-4b4c-9d35-34f85bc3e8db",
        "colab": {
          "base_uri": "https://localhost:8080/",
          "height": 281
        }
      },
      "source": [
        "import numpy as np\n",
        "from random import randint, choice\n",
        "import matplotlib.pyplot as plt\n",
        "import math\n",
        "x_c1=np.random.uniform(-1,1,(100,1))\n",
        "for i in range(100):\n",
        "  x_c1[i]=np.random.uniform(-1,1)\n",
        "x_c2=np.zeros(shape=(100,1))\n",
        "for i in range(100):\n",
        "    x_c2[i]=choice([np.random.uniform(-3,-2) , np.random.uniform(2,3)])\n",
        "y=np.zeros(100)\n",
        "a=plt.scatter(x_c1,y,c='red')\n",
        "a.set_label('class-1')\n",
        "b=plt.scatter(x_c2,y,c='black')\n",
        "b.set_label('class-2')\n",
        "plt.legend(loc='upper left')\n",
        "plt.title('scatter plot for data')\n",
        "plt.show()"
      ],
      "execution_count": 129,
      "outputs": [
        {
          "output_type": "display_data",
          "data": {
            "image/png": "[encoded data removed]",
            "text/plain": [
              "<Figure size 432x288 with 1 Axes>"
            ]
          },
          "metadata": {
            "tags": [],
            "needs_background": "light"
          }
        }
      ]
    },
    {
      "cell_type": "code",
      "metadata": {
        "id": "PEE-ETQT44nb",
        "colab_type": "code",
        "outputId": "016e4c3c-6f75-40a8-9527-8c68af185d94",
        "colab": {
          "base_uri": "https://localhost:8080/",
          "height": 281
        }
      },
      "source": [
        "x2_c1=np.zeros(shape=(100,1))\n",
        "for i in range(100):\n",
        "  x2_c1[i]=np.power(x_c1[i],2)\n",
        "x2_c2=np.zeros(shape=(100,1))\n",
        "for i in range(100):\n",
        "  x2_c2[i]=np.power(x_c2[i],2)\n",
        "a=plt.scatter(x_c1,x2_c1,c='red')\n",
        "b=plt.scatter(x_c2,x2_c2,c='black')\n",
        "a.set_label('class-1')\n",
        "b.set_label('class-2')\n",
        "plt.legend(loc='upper left')\n",
        "plt.title('scatter plot for x after transformation to higher dimension')\n",
        "plt.show()"
      ],
      "execution_count": 130,
      "outputs": [
        {
          "output_type": "display_data",
          "data": {
            "image/png": "[encoded data removed]",
            "text/plain": [
              "<Figure size 432x288 with 1 Axes>"
            ]
          },
          "metadata": {
            "tags": [],
            "needs_background": "light"
          }
        }
      ]
    },
    {
      "cell_type": "code",
      "metadata": {
        "id": "XsxRMY-MKW49",
        "colab_type": "code",
        "outputId": "f2a833f5-3124-4912-b7b3-3b47d5d093f7",
        "colab": {
          "base_uri": "https://localhost:8080/",
          "height": 107
        }
      },
      "source": [
        "m1=np.zeros(shape=(2,1))\n",
        "m1[0]=np.mean(np.array(x_c1))\n",
        "m1[1]=np.mean(np.array(x2_c1))\n",
        "m2=np.zeros(shape=(2,1))\n",
        "m2[0]=np.mean(np.array(x_c2))\n",
        "m2[1]=np.mean(np.array(x2_c2))\n",
        "print(m1.shape,m2.shape)\n",
        "print(m1)\n",
        "print(m2)"
      ],
      "execution_count": 131,
      "outputs": [
        {
          "output_type": "stream",
          "text": [
            "(2, 1) (2, 1)\n",
            "[[-0.03372655]\n",
            " [ 0.32297222]]\n",
            "[[-0.11886133]\n",
            " [ 6.42623001]]\n"
          ],
          "name": "stdout"
        }
      ]
    },
    {
      "cell_type": "code",
      "metadata": {
        "id": "R5hBRPqmso-r",
        "colab_type": "code",
        "colab": {}
      },
      "source": [
        "phi_x1=np.zeros(shape=(100,2))\n",
        "phi_x2=np.zeros(shape=(100,2))\n",
        "for i in range(100):\n",
        "  phi_x1[i][0]=x_c1[i]\n",
        "  phi_x1[i][1]=x2_c1[i]\n",
        "  phi_x2[i][0]=x_c2[i]\n",
        "  phi_x2[i][1]=x2_c2[i]"
      ],
      "execution_count": 0,
      "outputs": []
    },
    {
      "cell_type": "code",
      "metadata": {
        "id": "Bd1KEpkGLZ5c",
        "colab_type": "code",
        "outputId": "4a57d3dc-0445-4547-c951-e6ce444383b8",
        "colab": {
          "base_uri": "https://localhost:8080/",
          "height": 161
        }
      },
      "source": [
        "for i in range(100):\n",
        "  phi_x1[i].reshape(2,1)\n",
        "  phi_x2[i].reshape(2,1)\n",
        "a=np.zeros(shape=(2,2))\n",
        "b=np.zeros(shape=(2,2))\n",
        "for i in range(len(phi_x1)):\n",
        "  a+=np.matmul((phi_x1[i]-m1),(phi_x1[i]-m1).T)\n",
        "  b+=np.matmul((phi_x2[i]-m2),(phi_x2[i]-m2).T)\n",
        "print(a)\n",
        "print(b)\n",
        "s_w=a+b\n",
        "print(s_w)\n",
        "w=np.matmul(np.linalg.inv(s_w),(m1-m2))\n",
        "print(w)"
      ],
      "execution_count": 133,
      "outputs": [
        {
          "output_type": "stream",
          "text": [
            "[[53.7474244  41.02402319]\n",
            " [41.02402319 53.7474244 ]]\n",
            "[[5127.07257163  843.25050967]\n",
            " [ 843.25050967 5127.07257163]]\n",
            "[[5180.81999603  884.27453285]\n",
            " [ 884.27453285 5180.81999603]]\n",
            "[[ 0.00022403]\n",
            " [-0.00121629]]\n"
          ],
          "name": "stdout"
        }
      ]
    },
    {
      "cell_type": "code",
      "metadata": {
        "id": "7OGjiGrA5sbI",
        "colab_type": "code",
        "colab": {
          "base_uri": "https://localhost:8080/",
          "height": 281
        },
        "outputId": "c8d313e5-7b66-4b70-a7af-23c32844fc77"
      },
      "source": [
        "p1=[-10000*w[0],-10000*w[1]]\n",
        "p2=[3000*w[0],3000*w[1]]\n",
        "x_values = [p1[0], p2[0]]\n",
        "y_values = [p1[1], p2[1]]\n",
        "plt.plot(x_values, y_values,label='learned direction')\n",
        "a1=plt.scatter(x_c1,x2_c1,c='red')\n",
        "b1=plt.scatter(x_c2,x2_c2,c='black')\n",
        "a1.set_label('class-1')\n",
        "b1.set_label('class-2')\n",
        "plt.legend(loc='upper left')\n",
        "plt.title('plot for the points and the learned direction')\n",
        "plt.show()"
      ],
      "execution_count": 134,
      "outputs": [
        {
          "output_type": "display_data",
          "data": {
            "image/png": "[encoded data removed]",
            "text/plain": [
              "<Figure size 432x288 with 1 Axes>"
            ]
          },
          "metadata": {
            "tags": [],
            "needs_background": "light"
          }
        }
      ]
    },
    {
      "cell_type": "code",
      "metadata": {
        "id": "2Wj62DTDS3O5",
        "colab_type": "code",
        "colab": {}
      },
      "source": [
        "x5d1=x_c1\n",
        "x5d2=x_c2\n",
        "y5d=y"
      ],
      "execution_count": 0,
      "outputs": []
    },
    {
      "cell_type": "code",
      "metadata": {
        "id": "Tw5JHOOd9LwW",
        "colab_type": "code",
        "colab": {}
      },
      "source": [
        "def kernel_fun(x,y,gamma):\n",
        "  k = np.exp(-gamma * np.linalg.norm(x - y) ** 2)\n",
        "  return k"
      ],
      "execution_count": 0,
      "outputs": []
    },
    {
      "cell_type": "code",
      "metadata": {
        "id": "rKLUK6IG9Trd",
        "colab_type": "code",
        "colab": {
          "base_uri": "https://localhost:8080/",
          "height": 353
        },
        "outputId": "5f2d4066-1bb9-48e7-c8e7-f70dbf9ab007"
      },
      "source": [
        "xtemp1=x_c1\n",
        "xtemp2=x_c2\n",
        "\n",
        "#print(xtemp2)\n",
        "gamma=0.5\n",
        "K1=np.zeros((200,100))\n",
        "for i in range(100):\n",
        "  for j in range(100):\n",
        "    K1[i,j]=kernel_fun(xtemp1[i],xtemp1[j],gamma)\n",
        "for i in range(100,200):\n",
        "  for j in range(100):\n",
        "    K1[i,j]=kernel_fun(xtemp2[i-100],xtemp1[j],gamma)\n",
        "#print(K2)\n",
        "K2=np.zeros((200,100))\n",
        "for i in range(100):\n",
        "  for j in range(100):\n",
        "    K2[i,j]=kernel_fun(xtemp1[i],xtemp2[j],gamma)\n",
        "xtemp2=x5d2\n",
        "for i in range(100,200):\n",
        "  for j in range(100):\n",
        "    K2[i,j]=kernel_fun(xtemp2[i-100],xtemp2[j],gamma)\n",
        "#plt.scatter(K1,K2)\n",
        "\n",
        "ell1=np.zeros((100,100))\n",
        "for i in range(100):\n",
        "  for j in range(100):\n",
        "    ell1[i,j]=0.01\n",
        "ell2=np.zeros((100,100))\n",
        "for i in range(100):\n",
        "  for j in range(100):\n",
        "    ell2[i,j]=0.01\n",
        "#print(ell2)\n",
        "I1=np.identity(100)\n",
        "I2=np.identity(100)\n",
        "#print(I1)\n",
        "mid1=I1-ell1\n",
        "mid2=I2-ell2\n",
        "left1=np.matmul(mid1,K1.T)\n",
        "left2=np.matmul(mid2,K2.T)\n",
        "N1=np.matmul(K1,left1)\n",
        "N2=np.matmul(K2,left2)\n",
        "N=N1+N2\n",
        "#print('determinant of N is:',np.linalg.det(N))\n",
        "I=np.identity(200)\n",
        "N=N+0.001*I\n",
        "\n",
        "M1=np.zeros((200,1))\n",
        "for i in range(100):\n",
        "  sum1=0\n",
        "  for k in range(100):\n",
        "    sum1+=kernel_fun(xtemp1[i],xtemp1[k],gamma)\n",
        "  M1[i]=sum1/100\n",
        "for j in range(100,200):\n",
        "  sum2=0\n",
        "  for k in range(100):\n",
        "    sum2+=kernel_fun(xtemp2[j-100],xtemp1[k],gamma)\n",
        "  M1[j]=sum2/100\n",
        "#print(M1)\n",
        "M2=np.zeros((200,1))\n",
        "for i in range(100):\n",
        "  sum3=0\n",
        "  for k in range(100):\n",
        "    sum3+=kernel_fun(xtemp1[i],xtemp2[k],gamma)\n",
        "  M2[i]=sum3/100\n",
        "for j in range(100,200):\n",
        "  sum4=0\n",
        "  for k in range(100):\n",
        "    sum4+=kernel_fun(xtemp2[j-100],xtemp2[k],gamma)\n",
        "  M2[j]=sum4/100\n",
        "M=M2-M1\n",
        "temp=np.linalg.inv(N)\n",
        "alpha=np.matmul(temp,M)\n",
        "#print(alpha.shape)\n",
        "one_d_rep=np.zeros((200,1))\n",
        "for i in range(100):\n",
        "  sum1=0\n",
        "  for k1 in range(100):\n",
        "    sum1+=alpha[k1]*kernel_fun(xtemp1[k1],xtemp1[i],gamma)\n",
        "  for k2 in range(100,200):\n",
        "    sum1+=alpha[k2]*kernel_fun(xtemp2[k2-100],xtemp1[i],gamma)\n",
        "  one_d_rep[i]=sum1\n",
        "for i in range(100,200):\n",
        "  sum=0\n",
        "  for k1 in range(100):\n",
        "    sum+=alpha[k1]*kernel_fun(xtemp1[k1],xtemp2[i-100],gamma)\n",
        "  for k2 in range(100,200):\n",
        "    sum+=alpha[k2]*kernel_fun(xtemp2[k2-100],xtemp2[i-100],gamma)\n",
        "  one_d_rep[i]=sum\n",
        "x_val=np.vstack((xtemp1,xtemp2))\n",
        "#print(x_val.shape)\n",
        "print('plot for gamma =', gamma)\n",
        "z=np.zeros((200,1))\n",
        "f=np.zeros((200,1))\n",
        "for i in range(1,100):\n",
        "  f[i]=1\n",
        "for i in range(100,200):\n",
        "  f[i]=2\n",
        "meany=np.mean(one_d_rep)\n",
        "fig = plt.figure()\n",
        "ax = fig.add_subplot(111)\n",
        "#ax.set_xlim(-50,50)\n",
        "p=0\n",
        "\n",
        "\n",
        "y_pred=np.zeros((200,1))\n",
        "for i in range(200):\n",
        "  if one_d_rep[i]<meany:\n",
        "    y_pred[i]=1\n",
        "  else:\n",
        "    y_pred[i]=2\n",
        "acc=0\n",
        "for i in range(100):\n",
        "  if one_d_rep[i]<meany:\n",
        "    acc=acc+1\n",
        "for i in range(100,200):\n",
        "  if one_d_rep[i]>meany:\n",
        "    acc=acc+1\n",
        "print('theta chosen is:', meany)\n",
        "print('classification accuracy is:',acc/200)\n",
        "#plt.scatter(meany,z,c='pink')\n",
        "#\n",
        "a=plt.scatter(meany,p,c='blue')\n",
        "a.set_label('theta')\n",
        "b1=plt.scatter(one_d_rep,z,c=['red' if f_i ==1 else 'black' for f_i in f])\n",
        "b1.set_label('red for class-1, black for class-2')\n",
        "plt.title('1-D representation of data as scatter plot')\n",
        "plt.legend(loc='upper left')"
      ],
      "execution_count": 143,
      "outputs": [
        {
          "output_type": "stream",
          "text": [
            "plot for gamma = 0.5\n",
            "theta chosen is: -45.92249793013709\n",
            "classification accuracy is: 1.0\n"
          ],
          "name": "stdout"
        },
        {
          "output_type": "execute_result",
          "data": {
            "text/plain": [
              "<matplotlib.legend.Legend at 0x7f47ea310320>"
            ]
          },
          "metadata": {
            "tags": []
          },
          "execution_count": 143
        },
        {
          "output_type": "display_data",
          "data": {
            "image/png": "[encoded data removed]",
            "text/plain": [
              "<Figure size 432x288 with 1 Axes>"
            ]
          },
          "metadata": {
            "tags": [],
            "needs_background": "light"
          }
        }
      ]
    },
    {
      "cell_type": "code",
      "metadata": {
        "id": "AJkJKAqezKOM",
        "colab_type": "code",
        "colab": {
          "base_uri": "https://localhost:8080/",
          "height": 313
        },
        "outputId": "5a474a43-4510-43ad-b3ee-56613e9d185d"
      },
      "source": [
        "by=plt.scatter(x_val,alpha)\n",
        "by.set_label('learned alpha')\n",
        "plt.title('plot for learned alpha against x')\n",
        "plt.legend(loc='upper left')\n",
        "plt.xlabel(\"x belongs to C union C2\")\n",
        "plt.ylabel(\"alpha\")"
      ],
      "execution_count": 144,
      "outputs": [
        {
          "output_type": "execute_result",
          "data": {
            "text/plain": [
              "Text(0, 0.5, 'alpha')"
            ]
          },
          "metadata": {
            "tags": []
          },
          "execution_count": 144
        },
        {
          "output_type": "display_data",
          "data": {
            "image/png": "[encoded data removed]",
            "text/plain": [
              "<Figure size 432x288 with 1 Axes>"
            ]
          },
          "metadata": {
            "tags": [],
            "needs_background": "light"
          }
        }
      ]
    },
    {
      "cell_type": "code",
      "metadata": {
        "id": "qpjNnSvre8tL",
        "colab_type": "code",
        "colab": {}
      },
      "source": [
        ""
      ],
      "execution_count": 0,
      "outputs": []
    }
  ]
}